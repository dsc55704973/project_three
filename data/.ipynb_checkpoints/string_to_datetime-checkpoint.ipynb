{
 "cells": [
  {
   "cell_type": "code",
   "execution_count": 86,
   "metadata": {},
   "outputs": [],
   "source": [
    "import pandas as pd\n",
    "import datetime\n",
    "from calendar import monthrange"
   ]
  },
  {
   "cell_type": "code",
   "execution_count": 87,
   "metadata": {},
   "outputs": [],
   "source": [
    "csv = ('consumerprices.csv')"
   ]
  },
  {
   "cell_type": "code",
   "execution_count": 88,
   "metadata": {
    "scrolled": false
   },
   "outputs": [
    {
     "data": {
      "text/html": [
       "<div>\n",
       "<style scoped>\n",
       "    .dataframe tbody tr th:only-of-type {\n",
       "        vertical-align: middle;\n",
       "    }\n",
       "\n",
       "    .dataframe tbody tr th {\n",
       "        vertical-align: top;\n",
       "    }\n",
       "\n",
       "    .dataframe thead th {\n",
       "        text-align: right;\n",
       "    }\n",
       "</style>\n",
       "<table border=\"1\" class=\"dataframe\">\n",
       "  <thead>\n",
       "    <tr style=\"text-align: right;\">\n",
       "      <th></th>\n",
       "      <th>date</th>\n",
       "      <th>haircut_price</th>\n",
       "      <th>cardboard_pice</th>\n",
       "    </tr>\n",
       "  </thead>\n",
       "  <tbody>\n",
       "    <tr>\n",
       "      <th>0</th>\n",
       "      <td>Dec-97</td>\n",
       "      <td>100.00</td>\n",
       "      <td>168.3</td>\n",
       "    </tr>\n",
       "    <tr>\n",
       "      <th>1</th>\n",
       "      <td>Jan-98</td>\n",
       "      <td>100.20</td>\n",
       "      <td>172.1</td>\n",
       "    </tr>\n",
       "    <tr>\n",
       "      <th>2</th>\n",
       "      <td>Feb-98</td>\n",
       "      <td>100.20</td>\n",
       "      <td>172.1</td>\n",
       "    </tr>\n",
       "    <tr>\n",
       "      <th>3</th>\n",
       "      <td>Mar-98</td>\n",
       "      <td>100.50</td>\n",
       "      <td>172.1</td>\n",
       "    </tr>\n",
       "    <tr>\n",
       "      <th>4</th>\n",
       "      <td>Apr-98</td>\n",
       "      <td>100.80</td>\n",
       "      <td>172.9</td>\n",
       "    </tr>\n",
       "    <tr>\n",
       "      <th>...</th>\n",
       "      <td>...</td>\n",
       "      <td>...</td>\n",
       "      <td>...</td>\n",
       "    </tr>\n",
       "    <tr>\n",
       "      <th>270</th>\n",
       "      <td>Jun-20</td>\n",
       "      <td>172.08</td>\n",
       "      <td>358.9</td>\n",
       "    </tr>\n",
       "    <tr>\n",
       "      <th>271</th>\n",
       "      <td>Jul-20</td>\n",
       "      <td>174.74</td>\n",
       "      <td>358.9</td>\n",
       "    </tr>\n",
       "    <tr>\n",
       "      <th>272</th>\n",
       "      <td>Aug-20</td>\n",
       "      <td>174.26</td>\n",
       "      <td>358.9</td>\n",
       "    </tr>\n",
       "    <tr>\n",
       "      <th>273</th>\n",
       "      <td>Sep-20</td>\n",
       "      <td>174.75</td>\n",
       "      <td>358.9</td>\n",
       "    </tr>\n",
       "    <tr>\n",
       "      <th>274</th>\n",
       "      <td>Oct-20</td>\n",
       "      <td>175.46</td>\n",
       "      <td>358.4</td>\n",
       "    </tr>\n",
       "  </tbody>\n",
       "</table>\n",
       "<p>275 rows × 3 columns</p>\n",
       "</div>"
      ],
      "text/plain": [
       "       date  haircut_price  cardboard_pice\n",
       "0    Dec-97         100.00           168.3\n",
       "1    Jan-98         100.20           172.1\n",
       "2    Feb-98         100.20           172.1\n",
       "3    Mar-98         100.50           172.1\n",
       "4    Apr-98         100.80           172.9\n",
       "..      ...            ...             ...\n",
       "270  Jun-20         172.08           358.9\n",
       "271  Jul-20         174.74           358.9\n",
       "272  Aug-20         174.26           358.9\n",
       "273  Sep-20         174.75           358.9\n",
       "274  Oct-20         175.46           358.4\n",
       "\n",
       "[275 rows x 3 columns]"
      ]
     },
     "execution_count": 88,
     "metadata": {},
     "output_type": "execute_result"
    }
   ],
   "source": [
    "df = pd.read_csv(csv)\n",
    "df"
   ]
  },
  {
   "cell_type": "code",
   "execution_count": 89,
   "metadata": {},
   "outputs": [
    {
     "name": "stdout",
     "output_type": "stream",
     "text": [
      "3/1/06\n"
     ]
    }
   ],
   "source": [
    "x = df[\"date\"].iloc[99]\n",
    "month = list(calendar.month_abbr).index(x[:3])\n",
    "year = str(x[-2:])\n",
    "print(f'{month}/1/{year}')"
   ]
  },
  {
   "cell_type": "code",
   "execution_count": 90,
   "metadata": {},
   "outputs": [
    {
     "data": {
      "text/plain": [
       "Timestamp('2006-01-01 00:00:00')"
      ]
     },
     "execution_count": 90,
     "metadata": {},
     "output_type": "execute_result"
    }
   ],
   "source": [
    "yr= pd.to_datetime(year, format=\"%y\")\n",
    "yr"
   ]
  },
  {
   "cell_type": "code",
   "execution_count": 91,
   "metadata": {},
   "outputs": [
    {
     "name": "stdout",
     "output_type": "stream",
     "text": [
      "['12/1/97', '1/1/98', '2/1/98', '3/1/98', '4/1/98', '5/1/98', '6/1/98', '7/1/98', '8/1/98', '9/1/98', '10/1/98', '11/1/98', '12/1/98', '1/1/99', '2/1/99', '3/1/99', '4/1/99', '5/1/99', '6/1/99', '7/1/99', '8/1/99', '9/1/99', '10/1/99', '11/1/99', '12/1/99', '1/1/00', '2/1/00', '3/1/00', '4/1/00', '5/1/00', '6/1/00', '7/1/00', '8/1/00', '9/1/00', '10/1/00', '11/1/00', '12/1/00', '1/1/01', '2/1/01', '3/1/01', '4/1/01', '5/1/01', '6/1/01', '7/1/01', '8/1/01', '9/1/01', '10/1/01', '11/1/01', '12/1/01', '1/1/02', '2/1/02', '3/1/02', '4/1/02', '5/1/02', '6/1/02', '7/1/02', '8/1/02', '9/1/02', '10/1/02', '11/1/02', '12/1/02', '1/1/03', '2/1/03', '3/1/03', '4/1/03', '5/1/03', '6/1/03', '7/1/03', '8/1/03', '9/1/03', '10/1/03', '11/1/03', '12/1/03', '1/1/04', '2/1/04', '3/1/04', '4/1/04', '5/1/04', '6/1/04', '7/1/04', '8/1/04', '9/1/04', '10/1/04', '11/1/04', '12/1/04', '1/1/05', '2/1/05', '3/1/05', '4/1/05', '5/1/05', '6/1/05', '7/1/05', '8/1/05', '9/1/05', '10/1/05', '11/1/05', '12/1/05', '1/1/06', '2/1/06', '3/1/06', '4/1/06', '5/1/06', '6/1/06', '7/1/06', '8/1/06', '9/1/06', '10/1/06', '11/1/06', '12/1/06', '1/1/07', '2/1/07', '3/1/07', '4/1/07', '5/1/07', '6/1/07', '7/1/07', '8/1/07', '9/1/07', '10/1/07', '11/1/07', '12/1/07', '1/1/08', '2/1/08', '3/1/08', '4/1/08', '5/1/08', '6/1/08', '7/1/08', '8/1/08', '9/1/08', '10/1/08', '11/1/08', '12/1/08', '1/1/09', '2/1/09', '3/1/09', '4/1/09', '5/1/09', '6/1/09', '7/1/09', '8/1/09', '9/1/09', '10/1/09', '11/1/09', '12/1/09', '1/1/10', '2/1/10', '3/1/10', '4/1/10', '5/1/10', '6/1/10', '7/1/10', '8/1/10', '9/1/10', '10/1/10', '11/1/10', '12/1/10', '1/1/11', '2/1/11', '3/1/11', '4/1/11', '5/1/11', '6/1/11', '7/1/11', '8/1/11', '9/1/11', '10/1/11', '11/1/11', '12/1/11', '1/1/12', '2/1/12', '3/1/12', '4/1/12', '5/1/12', '6/1/12', '7/1/12', '8/1/12', '9/1/12', '10/1/12', '11/1/12', '12/1/12', '1/1/13', '2/1/13', '3/1/13', '4/1/13', '5/1/13', '6/1/13', '7/1/13', '8/1/13', '9/1/13', '10/1/13', '11/1/13', '12/1/13', '1/1/14', '2/1/14', '3/1/14', '4/1/14', '5/1/14', '6/1/14', '7/1/14', '8/1/14', '9/1/14', '10/1/14', '11/1/14', '12/1/14', '1/1/15', '2/1/15', '3/1/15', '4/1/15', '5/1/15', '6/1/15', '7/1/15', '8/1/15', '9/1/15', '10/1/15', '11/1/15', '12/1/15', '1/1/16', '2/1/16', '3/1/16', '4/1/16', '5/1/16', '6/1/16', '7/1/16', '8/1/16', '9/1/16', '10/1/16', '11/1/16', '12/1/16', '1/1/17', '2/1/17', '3/1/17', '4/1/17', '5/1/17', '6/1/17', '7/1/17', '8/1/17', '9/1/17', '10/1/17', '11/1/17', '12/1/17', '1/1/18', '2/1/18', '3/1/18', '4/1/18', '5/1/18', '6/1/18', '7/1/18', '8/1/18', '9/1/18', '10/1/18', '11/1/18', '12/1/18', '1/1/19', '2/1/19', '3/1/19', '4/1/19', '5/1/19', '6/1/19', '7/1/19', '8/1/19', '9/1/19', '10/1/19', '11/1/19', '12/1/19', '1/1/20', '2/1/20', '3/1/20', '4/1/20', '5/1/20', '6/1/20', '7/1/20', '8/1/20', '9/1/20', '10/1/20']\n"
     ]
    }
   ],
   "source": [
    "datetime =[]\n",
    "for i in range(df.shape[0]):\n",
    "    x = df[\"date\"].iloc[i]\n",
    "    month = list(calendar.month_abbr).index(x[:3])\n",
    "    year = str(x[-2:])\n",
    "    date = (f'{month}/1/{year}')\n",
    "    datetime.append(date)\n",
    "\n",
    "print(datetime)   \n",
    "    "
   ]
  },
  {
   "cell_type": "code",
   "execution_count": 92,
   "metadata": {},
   "outputs": [
    {
     "data": {
      "text/html": [
       "<div>\n",
       "<style scoped>\n",
       "    .dataframe tbody tr th:only-of-type {\n",
       "        vertical-align: middle;\n",
       "    }\n",
       "\n",
       "    .dataframe tbody tr th {\n",
       "        vertical-align: top;\n",
       "    }\n",
       "\n",
       "    .dataframe thead th {\n",
       "        text-align: right;\n",
       "    }\n",
       "</style>\n",
       "<table border=\"1\" class=\"dataframe\">\n",
       "  <thead>\n",
       "    <tr style=\"text-align: right;\">\n",
       "      <th></th>\n",
       "      <th>date</th>\n",
       "      <th>haircut_price</th>\n",
       "      <th>cardboard_pice</th>\n",
       "      <th>Date</th>\n",
       "    </tr>\n",
       "  </thead>\n",
       "  <tbody>\n",
       "    <tr>\n",
       "      <th>0</th>\n",
       "      <td>Dec-97</td>\n",
       "      <td>100.0</td>\n",
       "      <td>168.3</td>\n",
       "      <td>12/1/97</td>\n",
       "    </tr>\n",
       "    <tr>\n",
       "      <th>1</th>\n",
       "      <td>Jan-98</td>\n",
       "      <td>100.2</td>\n",
       "      <td>172.1</td>\n",
       "      <td>1/1/98</td>\n",
       "    </tr>\n",
       "    <tr>\n",
       "      <th>2</th>\n",
       "      <td>Feb-98</td>\n",
       "      <td>100.2</td>\n",
       "      <td>172.1</td>\n",
       "      <td>2/1/98</td>\n",
       "    </tr>\n",
       "    <tr>\n",
       "      <th>3</th>\n",
       "      <td>Mar-98</td>\n",
       "      <td>100.5</td>\n",
       "      <td>172.1</td>\n",
       "      <td>3/1/98</td>\n",
       "    </tr>\n",
       "    <tr>\n",
       "      <th>4</th>\n",
       "      <td>Apr-98</td>\n",
       "      <td>100.8</td>\n",
       "      <td>172.9</td>\n",
       "      <td>4/1/98</td>\n",
       "    </tr>\n",
       "  </tbody>\n",
       "</table>\n",
       "</div>"
      ],
      "text/plain": [
       "     date  haircut_price  cardboard_pice     Date\n",
       "0  Dec-97          100.0           168.3  12/1/97\n",
       "1  Jan-98          100.2           172.1   1/1/98\n",
       "2  Feb-98          100.2           172.1   2/1/98\n",
       "3  Mar-98          100.5           172.1   3/1/98\n",
       "4  Apr-98          100.8           172.9   4/1/98"
      ]
     },
     "execution_count": 92,
     "metadata": {},
     "output_type": "execute_result"
    }
   ],
   "source": [
    "df[\"Date\"] = datetime\n",
    "df.head()"
   ]
  },
  {
   "cell_type": "code",
   "execution_count": 93,
   "metadata": {},
   "outputs": [],
   "source": [
    "len(df)\n",
    "df['date'] = pd.to_datetime(df['Date'], format='%m/%d/%y')"
   ]
  },
  {
   "cell_type": "code",
   "execution_count": 94,
   "metadata": {},
   "outputs": [
    {
     "data": {
      "text/html": [
       "<div>\n",
       "<style scoped>\n",
       "    .dataframe tbody tr th:only-of-type {\n",
       "        vertical-align: middle;\n",
       "    }\n",
       "\n",
       "    .dataframe tbody tr th {\n",
       "        vertical-align: top;\n",
       "    }\n",
       "\n",
       "    .dataframe thead th {\n",
       "        text-align: right;\n",
       "    }\n",
       "</style>\n",
       "<table border=\"1\" class=\"dataframe\">\n",
       "  <thead>\n",
       "    <tr style=\"text-align: right;\">\n",
       "      <th></th>\n",
       "      <th>date</th>\n",
       "      <th>haircut_price</th>\n",
       "      <th>cardboard_pice</th>\n",
       "      <th>Date</th>\n",
       "    </tr>\n",
       "  </thead>\n",
       "  <tbody>\n",
       "    <tr>\n",
       "      <th>0</th>\n",
       "      <td>1997-12-01</td>\n",
       "      <td>100.00</td>\n",
       "      <td>168.3</td>\n",
       "      <td>12/1/97</td>\n",
       "    </tr>\n",
       "    <tr>\n",
       "      <th>1</th>\n",
       "      <td>1998-01-01</td>\n",
       "      <td>100.20</td>\n",
       "      <td>172.1</td>\n",
       "      <td>1/1/98</td>\n",
       "    </tr>\n",
       "    <tr>\n",
       "      <th>2</th>\n",
       "      <td>1998-02-01</td>\n",
       "      <td>100.20</td>\n",
       "      <td>172.1</td>\n",
       "      <td>2/1/98</td>\n",
       "    </tr>\n",
       "    <tr>\n",
       "      <th>3</th>\n",
       "      <td>1998-03-01</td>\n",
       "      <td>100.50</td>\n",
       "      <td>172.1</td>\n",
       "      <td>3/1/98</td>\n",
       "    </tr>\n",
       "    <tr>\n",
       "      <th>4</th>\n",
       "      <td>1998-04-01</td>\n",
       "      <td>100.80</td>\n",
       "      <td>172.9</td>\n",
       "      <td>4/1/98</td>\n",
       "    </tr>\n",
       "    <tr>\n",
       "      <th>...</th>\n",
       "      <td>...</td>\n",
       "      <td>...</td>\n",
       "      <td>...</td>\n",
       "      <td>...</td>\n",
       "    </tr>\n",
       "    <tr>\n",
       "      <th>270</th>\n",
       "      <td>2020-06-01</td>\n",
       "      <td>172.08</td>\n",
       "      <td>358.9</td>\n",
       "      <td>6/1/20</td>\n",
       "    </tr>\n",
       "    <tr>\n",
       "      <th>271</th>\n",
       "      <td>2020-07-01</td>\n",
       "      <td>174.74</td>\n",
       "      <td>358.9</td>\n",
       "      <td>7/1/20</td>\n",
       "    </tr>\n",
       "    <tr>\n",
       "      <th>272</th>\n",
       "      <td>2020-08-01</td>\n",
       "      <td>174.26</td>\n",
       "      <td>358.9</td>\n",
       "      <td>8/1/20</td>\n",
       "    </tr>\n",
       "    <tr>\n",
       "      <th>273</th>\n",
       "      <td>2020-09-01</td>\n",
       "      <td>174.75</td>\n",
       "      <td>358.9</td>\n",
       "      <td>9/1/20</td>\n",
       "    </tr>\n",
       "    <tr>\n",
       "      <th>274</th>\n",
       "      <td>2020-10-01</td>\n",
       "      <td>175.46</td>\n",
       "      <td>358.4</td>\n",
       "      <td>10/1/20</td>\n",
       "    </tr>\n",
       "  </tbody>\n",
       "</table>\n",
       "<p>275 rows × 4 columns</p>\n",
       "</div>"
      ],
      "text/plain": [
       "          date  haircut_price  cardboard_pice     Date\n",
       "0   1997-12-01         100.00           168.3  12/1/97\n",
       "1   1998-01-01         100.20           172.1   1/1/98\n",
       "2   1998-02-01         100.20           172.1   2/1/98\n",
       "3   1998-03-01         100.50           172.1   3/1/98\n",
       "4   1998-04-01         100.80           172.9   4/1/98\n",
       "..         ...            ...             ...      ...\n",
       "270 2020-06-01         172.08           358.9   6/1/20\n",
       "271 2020-07-01         174.74           358.9   7/1/20\n",
       "272 2020-08-01         174.26           358.9   8/1/20\n",
       "273 2020-09-01         174.75           358.9   9/1/20\n",
       "274 2020-10-01         175.46           358.4  10/1/20\n",
       "\n",
       "[275 rows x 4 columns]"
      ]
     },
     "execution_count": 94,
     "metadata": {},
     "output_type": "execute_result"
    }
   ],
   "source": [
    "df"
   ]
  },
  {
   "cell_type": "code",
   "execution_count": 95,
   "metadata": {},
   "outputs": [],
   "source": [
    "df.to_csv(r'hair_cardboard_prices.csv', index = False)"
   ]
  },
  {
   "cell_type": "code",
   "execution_count": null,
   "metadata": {},
   "outputs": [],
   "source": []
  }
 ],
 "metadata": {
  "kernelspec": {
   "display_name": "Python 3",
   "language": "python",
   "name": "python3"
  },
  "language_info": {
   "codemirror_mode": {
    "name": "ipython",
    "version": 3
   },
   "file_extension": ".py",
   "mimetype": "text/x-python",
   "name": "python",
   "nbconvert_exporter": "python",
   "pygments_lexer": "ipython3",
   "version": "3.7.6"
  }
 },
 "nbformat": 4,
 "nbformat_minor": 4
}
