{
 "cells": [
  {
   "cell_type": "markdown",
   "metadata": {
    "slideshow": {
     "slide_type": "slide"
    }
   },
   "source": [
    "# Neural Network"
   ]
  },
  {
   "cell_type": "code",
   "execution_count": 1,
   "metadata": {},
   "outputs": [],
   "source": [
    "# STANDARD\n",
    "%matplotlib inline\n",
    "import matplotlib.pyplot as plt\n",
    "import numpy as np\n",
    "import pandas as pd\n",
    "\n",
    "# SKYLEARN\n",
    "from sklearn.datasets import make_regression\n",
    "from sklearn.linear_model import LinearRegression\n",
    "from sklearn.metrics import mean_squared_error, r2_score\n",
    "from sklearn.model_selection import train_test_split\n",
    "from sklearn.preprocessing import StandardScaler\n",
    "from sklearn.linear_model import LogisticRegression\n",
    "import numpy as np\n",
    "\n",
    "# TENSORFLOW\n",
    "from tensorflow.keras.utils import to_categorical\n",
    "from tensorflow.keras.models import Sequential\n",
    "from tensorflow.keras.layers import Dense\n",
    "\n",
    "# DUMMY ENCODING\n",
    "import warnings\n",
    "warnings.simplefilter('ignore')"
   ]
  },
  {
   "cell_type": "code",
   "execution_count": null,
   "metadata": {},
   "outputs": [],
   "source": []
  },
  {
   "cell_type": "code",
   "execution_count": 2,
   "metadata": {},
   "outputs": [
    {
     "data": {
      "text/html": [
       "<div>\n",
       "<style scoped>\n",
       "    .dataframe tbody tr th:only-of-type {\n",
       "        vertical-align: middle;\n",
       "    }\n",
       "\n",
       "    .dataframe tbody tr th {\n",
       "        vertical-align: top;\n",
       "    }\n",
       "\n",
       "    .dataframe thead th {\n",
       "        text-align: right;\n",
       "    }\n",
       "</style>\n",
       "<table border=\"1\" class=\"dataframe\">\n",
       "  <thead>\n",
       "    <tr style=\"text-align: right;\">\n",
       "      <th></th>\n",
       "      <th>Date</th>\n",
       "      <th>CS_Ann</th>\n",
       "      <th>CD_Ann</th>\n",
       "      <th>Enrgy_Ann</th>\n",
       "      <th>Fncl_Ann</th>\n",
       "      <th>HlthC_Ann</th>\n",
       "      <th>Indstrl_Ann</th>\n",
       "      <th>Mtrls_Ann</th>\n",
       "      <th>Tech_Ann</th>\n",
       "      <th>Util_Ann</th>\n",
       "      <th>Unempl</th>\n",
       "      <th>Jobs_Non-Farm (000s)</th>\n",
       "      <th>Hrly_Wages</th>\n",
       "      <th>CPI_urban</th>\n",
       "      <th>PPI_Commodity</th>\n",
       "      <th>Imp_Exp _Indx</th>\n",
       "      <th>haircut_price</th>\n",
       "      <th>cardboard_pice</th>\n",
       "    </tr>\n",
       "  </thead>\n",
       "  <tbody>\n",
       "    <tr>\n",
       "      <th>0</th>\n",
       "      <td>12/1/98</td>\n",
       "      <td>0.0000</td>\n",
       "      <td>0.0000</td>\n",
       "      <td>0.0000</td>\n",
       "      <td>0.0000</td>\n",
       "      <td>0.0000</td>\n",
       "      <td>0.0000</td>\n",
       "      <td>0.0000</td>\n",
       "      <td>0.0000</td>\n",
       "      <td>0.0000</td>\n",
       "      <td>0.044</td>\n",
       "      <td>127596</td>\n",
       "      <td>0.00</td>\n",
       "      <td>164.400</td>\n",
       "      <td>0.0</td>\n",
       "      <td>91.0</td>\n",
       "      <td>102.70</td>\n",
       "      <td>166.5</td>\n",
       "    </tr>\n",
       "    <tr>\n",
       "      <th>1</th>\n",
       "      <td>1/1/99</td>\n",
       "      <td>0.0000</td>\n",
       "      <td>0.0000</td>\n",
       "      <td>0.0000</td>\n",
       "      <td>0.0000</td>\n",
       "      <td>0.0000</td>\n",
       "      <td>0.0000</td>\n",
       "      <td>0.0000</td>\n",
       "      <td>0.0000</td>\n",
       "      <td>0.0000</td>\n",
       "      <td>0.043</td>\n",
       "      <td>127702</td>\n",
       "      <td>0.00</td>\n",
       "      <td>164.700</td>\n",
       "      <td>0.0</td>\n",
       "      <td>91.3</td>\n",
       "      <td>103.00</td>\n",
       "      <td>165.0</td>\n",
       "    </tr>\n",
       "    <tr>\n",
       "      <th>2</th>\n",
       "      <td>2/1/99</td>\n",
       "      <td>0.0000</td>\n",
       "      <td>0.0000</td>\n",
       "      <td>0.0000</td>\n",
       "      <td>0.0000</td>\n",
       "      <td>0.0000</td>\n",
       "      <td>0.0000</td>\n",
       "      <td>0.0000</td>\n",
       "      <td>0.0000</td>\n",
       "      <td>0.0000</td>\n",
       "      <td>0.044</td>\n",
       "      <td>128120</td>\n",
       "      <td>0.00</td>\n",
       "      <td>164.700</td>\n",
       "      <td>0.0</td>\n",
       "      <td>91.2</td>\n",
       "      <td>103.30</td>\n",
       "      <td>164.5</td>\n",
       "    </tr>\n",
       "    <tr>\n",
       "      <th>3</th>\n",
       "      <td>3/1/99</td>\n",
       "      <td>0.0000</td>\n",
       "      <td>0.0000</td>\n",
       "      <td>0.0000</td>\n",
       "      <td>0.0000</td>\n",
       "      <td>0.0000</td>\n",
       "      <td>0.0000</td>\n",
       "      <td>0.0000</td>\n",
       "      <td>0.0000</td>\n",
       "      <td>0.0000</td>\n",
       "      <td>0.042</td>\n",
       "      <td>128227</td>\n",
       "      <td>0.00</td>\n",
       "      <td>164.800</td>\n",
       "      <td>0.0</td>\n",
       "      <td>91.5</td>\n",
       "      <td>103.70</td>\n",
       "      <td>164.6</td>\n",
       "    </tr>\n",
       "    <tr>\n",
       "      <th>4</th>\n",
       "      <td>4/1/99</td>\n",
       "      <td>0.0000</td>\n",
       "      <td>0.0000</td>\n",
       "      <td>0.0000</td>\n",
       "      <td>0.0000</td>\n",
       "      <td>0.0000</td>\n",
       "      <td>0.0000</td>\n",
       "      <td>0.0000</td>\n",
       "      <td>0.0000</td>\n",
       "      <td>0.0000</td>\n",
       "      <td>0.043</td>\n",
       "      <td>128597</td>\n",
       "      <td>0.00</td>\n",
       "      <td>165.900</td>\n",
       "      <td>0.0</td>\n",
       "      <td>92.4</td>\n",
       "      <td>103.90</td>\n",
       "      <td>171.3</td>\n",
       "    </tr>\n",
       "    <tr>\n",
       "      <th>...</th>\n",
       "      <td>...</td>\n",
       "      <td>...</td>\n",
       "      <td>...</td>\n",
       "      <td>...</td>\n",
       "      <td>...</td>\n",
       "      <td>...</td>\n",
       "      <td>...</td>\n",
       "      <td>...</td>\n",
       "      <td>...</td>\n",
       "      <td>...</td>\n",
       "      <td>...</td>\n",
       "      <td>...</td>\n",
       "      <td>...</td>\n",
       "      <td>...</td>\n",
       "      <td>...</td>\n",
       "      <td>...</td>\n",
       "      <td>...</td>\n",
       "      <td>...</td>\n",
       "    </tr>\n",
       "    <tr>\n",
       "      <th>258</th>\n",
       "      <td>6/1/20</td>\n",
       "      <td>0.0641</td>\n",
       "      <td>0.1235</td>\n",
       "      <td>-0.3460</td>\n",
       "      <td>-0.0951</td>\n",
       "      <td>0.1717</td>\n",
       "      <td>-0.0602</td>\n",
       "      <td>0.0486</td>\n",
       "      <td>0.3543</td>\n",
       "      <td>0.0210</td>\n",
       "      <td>0.111</td>\n",
       "      <td>137809</td>\n",
       "      <td>29.32</td>\n",
       "      <td>257.214</td>\n",
       "      <td>117.5</td>\n",
       "      <td>120.6</td>\n",
       "      <td>172.08</td>\n",
       "      <td>358.9</td>\n",
       "    </tr>\n",
       "    <tr>\n",
       "      <th>259</th>\n",
       "      <td>7/1/20</td>\n",
       "      <td>0.0065</td>\n",
       "      <td>0.0595</td>\n",
       "      <td>-0.4109</td>\n",
       "      <td>-0.1676</td>\n",
       "      <td>0.0768</td>\n",
       "      <td>-0.1111</td>\n",
       "      <td>-0.0428</td>\n",
       "      <td>0.3098</td>\n",
       "      <td>-0.0535</td>\n",
       "      <td>0.102</td>\n",
       "      <td>139570</td>\n",
       "      <td>29.35</td>\n",
       "      <td>258.723</td>\n",
       "      <td>118.0</td>\n",
       "      <td>122.1</td>\n",
       "      <td>174.74</td>\n",
       "      <td>358.9</td>\n",
       "    </tr>\n",
       "    <tr>\n",
       "      <th>260</th>\n",
       "      <td>8/1/20</td>\n",
       "      <td>0.0525</td>\n",
       "      <td>0.1363</td>\n",
       "      <td>-0.4191</td>\n",
       "      <td>-0.1452</td>\n",
       "      <td>0.1650</td>\n",
       "      <td>-0.0754</td>\n",
       "      <td>0.0412</td>\n",
       "      <td>0.3834</td>\n",
       "      <td>0.0225</td>\n",
       "      <td>0.084</td>\n",
       "      <td>141063</td>\n",
       "      <td>29.45</td>\n",
       "      <td>259.681</td>\n",
       "      <td>118.4</td>\n",
       "      <td>123.1</td>\n",
       "      <td>174.26</td>\n",
       "      <td>358.9</td>\n",
       "    </tr>\n",
       "    <tr>\n",
       "      <th>261</th>\n",
       "      <td>9/1/20</td>\n",
       "      <td>0.0845</td>\n",
       "      <td>0.2623</td>\n",
       "      <td>-0.3724</td>\n",
       "      <td>-0.0663</td>\n",
       "      <td>0.2004</td>\n",
       "      <td>0.0336</td>\n",
       "      <td>0.1198</td>\n",
       "      <td>0.5806</td>\n",
       "      <td>-0.0559</td>\n",
       "      <td>0.079</td>\n",
       "      <td>141735</td>\n",
       "      <td>29.46</td>\n",
       "      <td>260.209</td>\n",
       "      <td>118.9</td>\n",
       "      <td>123.3</td>\n",
       "      <td>174.75</td>\n",
       "      <td>358.9</td>\n",
       "    </tr>\n",
       "    <tr>\n",
       "      <th>262</th>\n",
       "      <td>10/1/20</td>\n",
       "      <td>0.0491</td>\n",
       "      <td>0.2269</td>\n",
       "      <td>-0.5013</td>\n",
       "      <td>-0.1408</td>\n",
       "      <td>0.1726</td>\n",
       "      <td>-0.0050</td>\n",
       "      <td>0.0969</td>\n",
       "      <td>0.4627</td>\n",
       "      <td>-0.0773</td>\n",
       "      <td>0.069</td>\n",
       "      <td>142373</td>\n",
       "      <td>29.50</td>\n",
       "      <td>260.325</td>\n",
       "      <td>119.3</td>\n",
       "      <td>123.2</td>\n",
       "      <td>175.46</td>\n",
       "      <td>358.4</td>\n",
       "    </tr>\n",
       "  </tbody>\n",
       "</table>\n",
       "<p>263 rows × 18 columns</p>\n",
       "</div>"
      ],
      "text/plain": [
       "        Date  CS_Ann  CD_Ann  Enrgy_Ann  Fncl_Ann  HlthC_Ann  Indstrl_Ann  \\\n",
       "0    12/1/98  0.0000  0.0000     0.0000    0.0000     0.0000       0.0000   \n",
       "1     1/1/99  0.0000  0.0000     0.0000    0.0000     0.0000       0.0000   \n",
       "2     2/1/99  0.0000  0.0000     0.0000    0.0000     0.0000       0.0000   \n",
       "3     3/1/99  0.0000  0.0000     0.0000    0.0000     0.0000       0.0000   \n",
       "4     4/1/99  0.0000  0.0000     0.0000    0.0000     0.0000       0.0000   \n",
       "..       ...     ...     ...        ...       ...        ...          ...   \n",
       "258   6/1/20  0.0641  0.1235    -0.3460   -0.0951     0.1717      -0.0602   \n",
       "259   7/1/20  0.0065  0.0595    -0.4109   -0.1676     0.0768      -0.1111   \n",
       "260   8/1/20  0.0525  0.1363    -0.4191   -0.1452     0.1650      -0.0754   \n",
       "261   9/1/20  0.0845  0.2623    -0.3724   -0.0663     0.2004       0.0336   \n",
       "262  10/1/20  0.0491  0.2269    -0.5013   -0.1408     0.1726      -0.0050   \n",
       "\n",
       "     Mtrls_Ann  Tech_Ann  Util_Ann  Unempl  Jobs_Non-Farm (000s)  Hrly_Wages  \\\n",
       "0       0.0000    0.0000    0.0000   0.044                127596        0.00   \n",
       "1       0.0000    0.0000    0.0000   0.043                127702        0.00   \n",
       "2       0.0000    0.0000    0.0000   0.044                128120        0.00   \n",
       "3       0.0000    0.0000    0.0000   0.042                128227        0.00   \n",
       "4       0.0000    0.0000    0.0000   0.043                128597        0.00   \n",
       "..         ...       ...       ...     ...                   ...         ...   \n",
       "258     0.0486    0.3543    0.0210   0.111                137809       29.32   \n",
       "259    -0.0428    0.3098   -0.0535   0.102                139570       29.35   \n",
       "260     0.0412    0.3834    0.0225   0.084                141063       29.45   \n",
       "261     0.1198    0.5806   -0.0559   0.079                141735       29.46   \n",
       "262     0.0969    0.4627   -0.0773   0.069                142373       29.50   \n",
       "\n",
       "     CPI_urban  PPI_Commodity  Imp_Exp _Indx  haircut_price  cardboard_pice  \n",
       "0      164.400            0.0           91.0         102.70           166.5  \n",
       "1      164.700            0.0           91.3         103.00           165.0  \n",
       "2      164.700            0.0           91.2         103.30           164.5  \n",
       "3      164.800            0.0           91.5         103.70           164.6  \n",
       "4      165.900            0.0           92.4         103.90           171.3  \n",
       "..         ...            ...            ...            ...             ...  \n",
       "258    257.214          117.5          120.6         172.08           358.9  \n",
       "259    258.723          118.0          122.1         174.74           358.9  \n",
       "260    259.681          118.4          123.1         174.26           358.9  \n",
       "261    260.209          118.9          123.3         174.75           358.9  \n",
       "262    260.325          119.3          123.2         175.46           358.4  \n",
       "\n",
       "[263 rows x 18 columns]"
      ]
     },
     "execution_count": 2,
     "metadata": {},
     "output_type": "execute_result"
    }
   ],
   "source": [
    "# Read CSV, zero all NaN\n",
    "data = pd.read_csv('data/Combined_data_annual only.csv')\n",
    "data = data.fillna(0)\n",
    "data"
   ]
  },
  {
   "cell_type": "code",
   "execution_count": 3,
   "metadata": {
    "scrolled": true
   },
   "outputs": [
    {
     "data": {
      "text/html": [
       "<div>\n",
       "<style scoped>\n",
       "    .dataframe tbody tr th:only-of-type {\n",
       "        vertical-align: middle;\n",
       "    }\n",
       "\n",
       "    .dataframe tbody tr th {\n",
       "        vertical-align: top;\n",
       "    }\n",
       "\n",
       "    .dataframe thead th {\n",
       "        text-align: right;\n",
       "    }\n",
       "</style>\n",
       "<table border=\"1\" class=\"dataframe\">\n",
       "  <thead>\n",
       "    <tr style=\"text-align: right;\">\n",
       "      <th></th>\n",
       "      <th>Date</th>\n",
       "      <th>CS_Ann</th>\n",
       "      <th>CD_Ann</th>\n",
       "      <th>Enrgy_Ann</th>\n",
       "      <th>Fncl_Ann</th>\n",
       "      <th>HlthC_Ann</th>\n",
       "      <th>Indstrl_Ann</th>\n",
       "      <th>Mtrls_Ann</th>\n",
       "      <th>Tech_Ann</th>\n",
       "      <th>Util_Ann</th>\n",
       "      <th>Unempl</th>\n",
       "      <th>Jobs_Non-Farm (000s)</th>\n",
       "      <th>Hrly_Wages</th>\n",
       "      <th>CPI_urban</th>\n",
       "      <th>PPI_Commodity</th>\n",
       "      <th>Imp_Exp _Indx</th>\n",
       "      <th>haircut_price</th>\n",
       "      <th>cardboard_pice</th>\n",
       "      <th>CS_BS</th>\n",
       "    </tr>\n",
       "  </thead>\n",
       "  <tbody>\n",
       "    <tr>\n",
       "      <th>0</th>\n",
       "      <td>12/1/98</td>\n",
       "      <td>0.0000</td>\n",
       "      <td>0.0000</td>\n",
       "      <td>0.0000</td>\n",
       "      <td>0.0000</td>\n",
       "      <td>0.0000</td>\n",
       "      <td>0.0000</td>\n",
       "      <td>0.0000</td>\n",
       "      <td>0.0000</td>\n",
       "      <td>0.0000</td>\n",
       "      <td>0.044</td>\n",
       "      <td>127596</td>\n",
       "      <td>0.00</td>\n",
       "      <td>164.400</td>\n",
       "      <td>0.0</td>\n",
       "      <td>91.0</td>\n",
       "      <td>102.70</td>\n",
       "      <td>166.5</td>\n",
       "      <td>0</td>\n",
       "    </tr>\n",
       "    <tr>\n",
       "      <th>1</th>\n",
       "      <td>1/1/99</td>\n",
       "      <td>0.0000</td>\n",
       "      <td>0.0000</td>\n",
       "      <td>0.0000</td>\n",
       "      <td>0.0000</td>\n",
       "      <td>0.0000</td>\n",
       "      <td>0.0000</td>\n",
       "      <td>0.0000</td>\n",
       "      <td>0.0000</td>\n",
       "      <td>0.0000</td>\n",
       "      <td>0.043</td>\n",
       "      <td>127702</td>\n",
       "      <td>0.00</td>\n",
       "      <td>164.700</td>\n",
       "      <td>0.0</td>\n",
       "      <td>91.3</td>\n",
       "      <td>103.00</td>\n",
       "      <td>165.0</td>\n",
       "      <td>0</td>\n",
       "    </tr>\n",
       "    <tr>\n",
       "      <th>2</th>\n",
       "      <td>2/1/99</td>\n",
       "      <td>0.0000</td>\n",
       "      <td>0.0000</td>\n",
       "      <td>0.0000</td>\n",
       "      <td>0.0000</td>\n",
       "      <td>0.0000</td>\n",
       "      <td>0.0000</td>\n",
       "      <td>0.0000</td>\n",
       "      <td>0.0000</td>\n",
       "      <td>0.0000</td>\n",
       "      <td>0.044</td>\n",
       "      <td>128120</td>\n",
       "      <td>0.00</td>\n",
       "      <td>164.700</td>\n",
       "      <td>0.0</td>\n",
       "      <td>91.2</td>\n",
       "      <td>103.30</td>\n",
       "      <td>164.5</td>\n",
       "      <td>0</td>\n",
       "    </tr>\n",
       "    <tr>\n",
       "      <th>3</th>\n",
       "      <td>3/1/99</td>\n",
       "      <td>0.0000</td>\n",
       "      <td>0.0000</td>\n",
       "      <td>0.0000</td>\n",
       "      <td>0.0000</td>\n",
       "      <td>0.0000</td>\n",
       "      <td>0.0000</td>\n",
       "      <td>0.0000</td>\n",
       "      <td>0.0000</td>\n",
       "      <td>0.0000</td>\n",
       "      <td>0.042</td>\n",
       "      <td>128227</td>\n",
       "      <td>0.00</td>\n",
       "      <td>164.800</td>\n",
       "      <td>0.0</td>\n",
       "      <td>91.5</td>\n",
       "      <td>103.70</td>\n",
       "      <td>164.6</td>\n",
       "      <td>0</td>\n",
       "    </tr>\n",
       "    <tr>\n",
       "      <th>4</th>\n",
       "      <td>4/1/99</td>\n",
       "      <td>0.0000</td>\n",
       "      <td>0.0000</td>\n",
       "      <td>0.0000</td>\n",
       "      <td>0.0000</td>\n",
       "      <td>0.0000</td>\n",
       "      <td>0.0000</td>\n",
       "      <td>0.0000</td>\n",
       "      <td>0.0000</td>\n",
       "      <td>0.0000</td>\n",
       "      <td>0.043</td>\n",
       "      <td>128597</td>\n",
       "      <td>0.00</td>\n",
       "      <td>165.900</td>\n",
       "      <td>0.0</td>\n",
       "      <td>92.4</td>\n",
       "      <td>103.90</td>\n",
       "      <td>171.3</td>\n",
       "      <td>0</td>\n",
       "    </tr>\n",
       "    <tr>\n",
       "      <th>...</th>\n",
       "      <td>...</td>\n",
       "      <td>...</td>\n",
       "      <td>...</td>\n",
       "      <td>...</td>\n",
       "      <td>...</td>\n",
       "      <td>...</td>\n",
       "      <td>...</td>\n",
       "      <td>...</td>\n",
       "      <td>...</td>\n",
       "      <td>...</td>\n",
       "      <td>...</td>\n",
       "      <td>...</td>\n",
       "      <td>...</td>\n",
       "      <td>...</td>\n",
       "      <td>...</td>\n",
       "      <td>...</td>\n",
       "      <td>...</td>\n",
       "      <td>...</td>\n",
       "      <td>...</td>\n",
       "    </tr>\n",
       "    <tr>\n",
       "      <th>258</th>\n",
       "      <td>6/1/20</td>\n",
       "      <td>0.0641</td>\n",
       "      <td>0.1235</td>\n",
       "      <td>-0.3460</td>\n",
       "      <td>-0.0951</td>\n",
       "      <td>0.1717</td>\n",
       "      <td>-0.0602</td>\n",
       "      <td>0.0486</td>\n",
       "      <td>0.3543</td>\n",
       "      <td>0.0210</td>\n",
       "      <td>0.111</td>\n",
       "      <td>137809</td>\n",
       "      <td>29.32</td>\n",
       "      <td>257.214</td>\n",
       "      <td>117.5</td>\n",
       "      <td>120.6</td>\n",
       "      <td>172.08</td>\n",
       "      <td>358.9</td>\n",
       "      <td>1</td>\n",
       "    </tr>\n",
       "    <tr>\n",
       "      <th>259</th>\n",
       "      <td>7/1/20</td>\n",
       "      <td>0.0065</td>\n",
       "      <td>0.0595</td>\n",
       "      <td>-0.4109</td>\n",
       "      <td>-0.1676</td>\n",
       "      <td>0.0768</td>\n",
       "      <td>-0.1111</td>\n",
       "      <td>-0.0428</td>\n",
       "      <td>0.3098</td>\n",
       "      <td>-0.0535</td>\n",
       "      <td>0.102</td>\n",
       "      <td>139570</td>\n",
       "      <td>29.35</td>\n",
       "      <td>258.723</td>\n",
       "      <td>118.0</td>\n",
       "      <td>122.1</td>\n",
       "      <td>174.74</td>\n",
       "      <td>358.9</td>\n",
       "      <td>1</td>\n",
       "    </tr>\n",
       "    <tr>\n",
       "      <th>260</th>\n",
       "      <td>8/1/20</td>\n",
       "      <td>0.0525</td>\n",
       "      <td>0.1363</td>\n",
       "      <td>-0.4191</td>\n",
       "      <td>-0.1452</td>\n",
       "      <td>0.1650</td>\n",
       "      <td>-0.0754</td>\n",
       "      <td>0.0412</td>\n",
       "      <td>0.3834</td>\n",
       "      <td>0.0225</td>\n",
       "      <td>0.084</td>\n",
       "      <td>141063</td>\n",
       "      <td>29.45</td>\n",
       "      <td>259.681</td>\n",
       "      <td>118.4</td>\n",
       "      <td>123.1</td>\n",
       "      <td>174.26</td>\n",
       "      <td>358.9</td>\n",
       "      <td>1</td>\n",
       "    </tr>\n",
       "    <tr>\n",
       "      <th>261</th>\n",
       "      <td>9/1/20</td>\n",
       "      <td>0.0845</td>\n",
       "      <td>0.2623</td>\n",
       "      <td>-0.3724</td>\n",
       "      <td>-0.0663</td>\n",
       "      <td>0.2004</td>\n",
       "      <td>0.0336</td>\n",
       "      <td>0.1198</td>\n",
       "      <td>0.5806</td>\n",
       "      <td>-0.0559</td>\n",
       "      <td>0.079</td>\n",
       "      <td>141735</td>\n",
       "      <td>29.46</td>\n",
       "      <td>260.209</td>\n",
       "      <td>118.9</td>\n",
       "      <td>123.3</td>\n",
       "      <td>174.75</td>\n",
       "      <td>358.9</td>\n",
       "      <td>1</td>\n",
       "    </tr>\n",
       "    <tr>\n",
       "      <th>262</th>\n",
       "      <td>10/1/20</td>\n",
       "      <td>0.0491</td>\n",
       "      <td>0.2269</td>\n",
       "      <td>-0.5013</td>\n",
       "      <td>-0.1408</td>\n",
       "      <td>0.1726</td>\n",
       "      <td>-0.0050</td>\n",
       "      <td>0.0969</td>\n",
       "      <td>0.4627</td>\n",
       "      <td>-0.0773</td>\n",
       "      <td>0.069</td>\n",
       "      <td>142373</td>\n",
       "      <td>29.50</td>\n",
       "      <td>260.325</td>\n",
       "      <td>119.3</td>\n",
       "      <td>123.2</td>\n",
       "      <td>175.46</td>\n",
       "      <td>358.4</td>\n",
       "      <td>1</td>\n",
       "    </tr>\n",
       "  </tbody>\n",
       "</table>\n",
       "<p>263 rows × 19 columns</p>\n",
       "</div>"
      ],
      "text/plain": [
       "        Date  CS_Ann  CD_Ann  Enrgy_Ann  Fncl_Ann  HlthC_Ann  Indstrl_Ann  \\\n",
       "0    12/1/98  0.0000  0.0000     0.0000    0.0000     0.0000       0.0000   \n",
       "1     1/1/99  0.0000  0.0000     0.0000    0.0000     0.0000       0.0000   \n",
       "2     2/1/99  0.0000  0.0000     0.0000    0.0000     0.0000       0.0000   \n",
       "3     3/1/99  0.0000  0.0000     0.0000    0.0000     0.0000       0.0000   \n",
       "4     4/1/99  0.0000  0.0000     0.0000    0.0000     0.0000       0.0000   \n",
       "..       ...     ...     ...        ...       ...        ...          ...   \n",
       "258   6/1/20  0.0641  0.1235    -0.3460   -0.0951     0.1717      -0.0602   \n",
       "259   7/1/20  0.0065  0.0595    -0.4109   -0.1676     0.0768      -0.1111   \n",
       "260   8/1/20  0.0525  0.1363    -0.4191   -0.1452     0.1650      -0.0754   \n",
       "261   9/1/20  0.0845  0.2623    -0.3724   -0.0663     0.2004       0.0336   \n",
       "262  10/1/20  0.0491  0.2269    -0.5013   -0.1408     0.1726      -0.0050   \n",
       "\n",
       "     Mtrls_Ann  Tech_Ann  Util_Ann  Unempl  Jobs_Non-Farm (000s)  Hrly_Wages  \\\n",
       "0       0.0000    0.0000    0.0000   0.044                127596        0.00   \n",
       "1       0.0000    0.0000    0.0000   0.043                127702        0.00   \n",
       "2       0.0000    0.0000    0.0000   0.044                128120        0.00   \n",
       "3       0.0000    0.0000    0.0000   0.042                128227        0.00   \n",
       "4       0.0000    0.0000    0.0000   0.043                128597        0.00   \n",
       "..         ...       ...       ...     ...                   ...         ...   \n",
       "258     0.0486    0.3543    0.0210   0.111                137809       29.32   \n",
       "259    -0.0428    0.3098   -0.0535   0.102                139570       29.35   \n",
       "260     0.0412    0.3834    0.0225   0.084                141063       29.45   \n",
       "261     0.1198    0.5806   -0.0559   0.079                141735       29.46   \n",
       "262     0.0969    0.4627   -0.0773   0.069                142373       29.50   \n",
       "\n",
       "     CPI_urban  PPI_Commodity  Imp_Exp _Indx  haircut_price  cardboard_pice  \\\n",
       "0      164.400            0.0           91.0         102.70           166.5   \n",
       "1      164.700            0.0           91.3         103.00           165.0   \n",
       "2      164.700            0.0           91.2         103.30           164.5   \n",
       "3      164.800            0.0           91.5         103.70           164.6   \n",
       "4      165.900            0.0           92.4         103.90           171.3   \n",
       "..         ...            ...            ...            ...             ...   \n",
       "258    257.214          117.5          120.6         172.08           358.9   \n",
       "259    258.723          118.0          122.1         174.74           358.9   \n",
       "260    259.681          118.4          123.1         174.26           358.9   \n",
       "261    260.209          118.9          123.3         174.75           358.9   \n",
       "262    260.325          119.3          123.2         175.46           358.4   \n",
       "\n",
       "     CS_BS  \n",
       "0        0  \n",
       "1        0  \n",
       "2        0  \n",
       "3        0  \n",
       "4        0  \n",
       "..     ...  \n",
       "258      1  \n",
       "259      1  \n",
       "260      1  \n",
       "261      1  \n",
       "262      1  \n",
       "\n",
       "[263 rows x 19 columns]"
      ]
     },
     "execution_count": 3,
     "metadata": {},
     "output_type": "execute_result"
    }
   ],
   "source": [
    "# Add new column, \"Buy\"/\"Sell\" function\n",
    "funcs = []\n",
    "\n",
    "for x in data[\"CS_Ann\"]:\n",
    "    if x <= 0:\n",
    "        func = 0\n",
    "        funcs.append(func)\n",
    "    elif x > 0:\n",
    "        func = 1\n",
    "        funcs.append(func)\n",
    "    \n",
    "data[\"CS_BS\"] = funcs\n",
    "data"
   ]
  },
  {
   "cell_type": "code",
   "execution_count": 4,
   "metadata": {},
   "outputs": [
    {
     "data": {
      "text/html": [
       "<div>\n",
       "<style scoped>\n",
       "    .dataframe tbody tr th:only-of-type {\n",
       "        vertical-align: middle;\n",
       "    }\n",
       "\n",
       "    .dataframe tbody tr th {\n",
       "        vertical-align: top;\n",
       "    }\n",
       "\n",
       "    .dataframe thead th {\n",
       "        text-align: right;\n",
       "    }\n",
       "</style>\n",
       "<table border=\"1\" class=\"dataframe\">\n",
       "  <thead>\n",
       "    <tr style=\"text-align: right;\">\n",
       "      <th></th>\n",
       "      <th>Date</th>\n",
       "      <th>CS_Ann</th>\n",
       "      <th>CD_Ann</th>\n",
       "      <th>Enrgy_Ann</th>\n",
       "      <th>Fncl_Ann</th>\n",
       "      <th>HlthC_Ann</th>\n",
       "      <th>Indstrl_Ann</th>\n",
       "      <th>Mtrls_Ann</th>\n",
       "      <th>Tech_Ann</th>\n",
       "      <th>Util_Ann</th>\n",
       "      <th>Unempl</th>\n",
       "      <th>Jobs_Non-Farm (000s)</th>\n",
       "      <th>Hrly_Wages</th>\n",
       "      <th>CPI_urban</th>\n",
       "      <th>PPI_Commodity</th>\n",
       "      <th>Imp_Exp _Indx</th>\n",
       "      <th>haircut_price</th>\n",
       "      <th>cardboard_pice</th>\n",
       "      <th>CS_BS</th>\n",
       "    </tr>\n",
       "  </thead>\n",
       "  <tbody>\n",
       "    <tr>\n",
       "      <th>12</th>\n",
       "      <td>12/1/99</td>\n",
       "      <td>-0.0441</td>\n",
       "      <td>0.1358</td>\n",
       "      <td>0.1555</td>\n",
       "      <td>0.0313</td>\n",
       "      <td>0.1474</td>\n",
       "      <td>0.1879</td>\n",
       "      <td>0.1564</td>\n",
       "      <td>0.4349</td>\n",
       "      <td>-0.0444</td>\n",
       "      <td>0.040</td>\n",
       "      <td>130772</td>\n",
       "      <td>0.00</td>\n",
       "      <td>168.800</td>\n",
       "      <td>0.0</td>\n",
       "      <td>97.4</td>\n",
       "      <td>106.30</td>\n",
       "      <td>191.9</td>\n",
       "      <td>0</td>\n",
       "    </tr>\n",
       "    <tr>\n",
       "      <th>13</th>\n",
       "      <td>1/1/00</td>\n",
       "      <td>-0.1553</td>\n",
       "      <td>0.1852</td>\n",
       "      <td>0.1732</td>\n",
       "      <td>0.0243</td>\n",
       "      <td>0.1810</td>\n",
       "      <td>0.1989</td>\n",
       "      <td>0.2158</td>\n",
       "      <td>0.7033</td>\n",
       "      <td>-0.0359</td>\n",
       "      <td>0.040</td>\n",
       "      <td>131005</td>\n",
       "      <td>0.00</td>\n",
       "      <td>169.300</td>\n",
       "      <td>0.0</td>\n",
       "      <td>97.8</td>\n",
       "      <td>106.70</td>\n",
       "      <td>191.9</td>\n",
       "      <td>0</td>\n",
       "    </tr>\n",
       "    <tr>\n",
       "      <th>14</th>\n",
       "      <td>2/1/00</td>\n",
       "      <td>-0.1459</td>\n",
       "      <td>-0.0057</td>\n",
       "      <td>0.2521</td>\n",
       "      <td>-0.0313</td>\n",
       "      <td>0.1039</td>\n",
       "      <td>0.1084</td>\n",
       "      <td>0.0962</td>\n",
       "      <td>0.3239</td>\n",
       "      <td>-0.0695</td>\n",
       "      <td>0.041</td>\n",
       "      <td>131124</td>\n",
       "      <td>0.00</td>\n",
       "      <td>170.000</td>\n",
       "      <td>0.0</td>\n",
       "      <td>99.7</td>\n",
       "      <td>107.20</td>\n",
       "      <td>191.5</td>\n",
       "      <td>0</td>\n",
       "    </tr>\n",
       "    <tr>\n",
       "      <th>15</th>\n",
       "      <td>3/1/00</td>\n",
       "      <td>-0.2271</td>\n",
       "      <td>-0.0557</td>\n",
       "      <td>0.2004</td>\n",
       "      <td>-0.1451</td>\n",
       "      <td>0.0385</td>\n",
       "      <td>0.0504</td>\n",
       "      <td>-0.0022</td>\n",
       "      <td>0.6654</td>\n",
       "      <td>-0.1154</td>\n",
       "      <td>0.040</td>\n",
       "      <td>131596</td>\n",
       "      <td>0.00</td>\n",
       "      <td>171.000</td>\n",
       "      <td>0.0</td>\n",
       "      <td>99.9</td>\n",
       "      <td>107.50</td>\n",
       "      <td>192.3</td>\n",
       "      <td>0</td>\n",
       "    </tr>\n",
       "    <tr>\n",
       "      <th>16</th>\n",
       "      <td>4/1/00</td>\n",
       "      <td>-0.1906</td>\n",
       "      <td>0.0315</td>\n",
       "      <td>0.1980</td>\n",
       "      <td>-0.0038</td>\n",
       "      <td>0.1044</td>\n",
       "      <td>0.1740</td>\n",
       "      <td>0.0760</td>\n",
       "      <td>0.5950</td>\n",
       "      <td>-0.0058</td>\n",
       "      <td>0.038</td>\n",
       "      <td>131888</td>\n",
       "      <td>0.00</td>\n",
       "      <td>170.900</td>\n",
       "      <td>0.0</td>\n",
       "      <td>98.5</td>\n",
       "      <td>107.50</td>\n",
       "      <td>197.5</td>\n",
       "      <td>0</td>\n",
       "    </tr>\n",
       "    <tr>\n",
       "      <th>...</th>\n",
       "      <td>...</td>\n",
       "      <td>...</td>\n",
       "      <td>...</td>\n",
       "      <td>...</td>\n",
       "      <td>...</td>\n",
       "      <td>...</td>\n",
       "      <td>...</td>\n",
       "      <td>...</td>\n",
       "      <td>...</td>\n",
       "      <td>...</td>\n",
       "      <td>...</td>\n",
       "      <td>...</td>\n",
       "      <td>...</td>\n",
       "      <td>...</td>\n",
       "      <td>...</td>\n",
       "      <td>...</td>\n",
       "      <td>...</td>\n",
       "      <td>...</td>\n",
       "      <td>...</td>\n",
       "    </tr>\n",
       "    <tr>\n",
       "      <th>236</th>\n",
       "      <td>8/1/18</td>\n",
       "      <td>-0.0356</td>\n",
       "      <td>0.2155</td>\n",
       "      <td>0.1469</td>\n",
       "      <td>0.1136</td>\n",
       "      <td>0.1085</td>\n",
       "      <td>0.1208</td>\n",
       "      <td>0.0862</td>\n",
       "      <td>0.2433</td>\n",
       "      <td>-0.0152</td>\n",
       "      <td>0.038</td>\n",
       "      <td>149268</td>\n",
       "      <td>27.22</td>\n",
       "      <td>251.905</td>\n",
       "      <td>116.5</td>\n",
       "      <td>127.6</td>\n",
       "      <td>161.73</td>\n",
       "      <td>362.5</td>\n",
       "      <td>0</td>\n",
       "    </tr>\n",
       "    <tr>\n",
       "      <th>237</th>\n",
       "      <td>9/1/18</td>\n",
       "      <td>-0.0202</td>\n",
       "      <td>0.2997</td>\n",
       "      <td>0.1857</td>\n",
       "      <td>0.1431</td>\n",
       "      <td>0.1387</td>\n",
       "      <td>0.1195</td>\n",
       "      <td>0.0697</td>\n",
       "      <td>0.2759</td>\n",
       "      <td>-0.0276</td>\n",
       "      <td>0.037</td>\n",
       "      <td>149348</td>\n",
       "      <td>27.31</td>\n",
       "      <td>252.261</td>\n",
       "      <td>116.7</td>\n",
       "      <td>127.7</td>\n",
       "      <td>161.87</td>\n",
       "      <td>363.4</td>\n",
       "      <td>0</td>\n",
       "    </tr>\n",
       "    <tr>\n",
       "      <th>241</th>\n",
       "      <td>1/1/19</td>\n",
       "      <td>-0.1178</td>\n",
       "      <td>-0.0181</td>\n",
       "      <td>-0.2228</td>\n",
       "      <td>-0.1645</td>\n",
       "      <td>0.0264</td>\n",
       "      <td>-0.1641</td>\n",
       "      <td>-0.1819</td>\n",
       "      <td>-0.0545</td>\n",
       "      <td>0.0008</td>\n",
       "      <td>0.040</td>\n",
       "      <td>150134</td>\n",
       "      <td>27.58</td>\n",
       "      <td>252.550</td>\n",
       "      <td>117.0</td>\n",
       "      <td>124.6</td>\n",
       "      <td>163.86</td>\n",
       "      <td>361.5</td>\n",
       "      <td>0</td>\n",
       "    </tr>\n",
       "    <tr>\n",
       "      <th>242</th>\n",
       "      <td>2/1/19</td>\n",
       "      <td>-0.0703</td>\n",
       "      <td>0.0066</td>\n",
       "      <td>-0.1398</td>\n",
       "      <td>-0.1247</td>\n",
       "      <td>0.0344</td>\n",
       "      <td>-0.0914</td>\n",
       "      <td>-0.1470</td>\n",
       "      <td>-0.0277</td>\n",
       "      <td>0.0696</td>\n",
       "      <td>0.038</td>\n",
       "      <td>150135</td>\n",
       "      <td>27.69</td>\n",
       "      <td>253.181</td>\n",
       "      <td>117.2</td>\n",
       "      <td>125.9</td>\n",
       "      <td>164.32</td>\n",
       "      <td>361.5</td>\n",
       "      <td>0</td>\n",
       "    </tr>\n",
       "    <tr>\n",
       "      <th>256</th>\n",
       "      <td>4/1/20</td>\n",
       "      <td>-0.0575</td>\n",
       "      <td>-0.1779</td>\n",
       "      <td>-0.5775</td>\n",
       "      <td>-0.2392</td>\n",
       "      <td>-0.0725</td>\n",
       "      <td>-0.2554</td>\n",
       "      <td>-0.2237</td>\n",
       "      <td>0.0384</td>\n",
       "      <td>-0.0851</td>\n",
       "      <td>0.147</td>\n",
       "      <td>130303</td>\n",
       "      <td>30.03</td>\n",
       "      <td>255.902</td>\n",
       "      <td>116.6</td>\n",
       "      <td>118.2</td>\n",
       "      <td>169.90</td>\n",
       "      <td>358.9</td>\n",
       "      <td>0</td>\n",
       "    </tr>\n",
       "  </tbody>\n",
       "</table>\n",
       "<p>61 rows × 19 columns</p>\n",
       "</div>"
      ],
      "text/plain": [
       "        Date  CS_Ann  CD_Ann  Enrgy_Ann  Fncl_Ann  HlthC_Ann  Indstrl_Ann  \\\n",
       "12   12/1/99 -0.0441  0.1358     0.1555    0.0313     0.1474       0.1879   \n",
       "13    1/1/00 -0.1553  0.1852     0.1732    0.0243     0.1810       0.1989   \n",
       "14    2/1/00 -0.1459 -0.0057     0.2521   -0.0313     0.1039       0.1084   \n",
       "15    3/1/00 -0.2271 -0.0557     0.2004   -0.1451     0.0385       0.0504   \n",
       "16    4/1/00 -0.1906  0.0315     0.1980   -0.0038     0.1044       0.1740   \n",
       "..       ...     ...     ...        ...       ...        ...          ...   \n",
       "236   8/1/18 -0.0356  0.2155     0.1469    0.1136     0.1085       0.1208   \n",
       "237   9/1/18 -0.0202  0.2997     0.1857    0.1431     0.1387       0.1195   \n",
       "241   1/1/19 -0.1178 -0.0181    -0.2228   -0.1645     0.0264      -0.1641   \n",
       "242   2/1/19 -0.0703  0.0066    -0.1398   -0.1247     0.0344      -0.0914   \n",
       "256   4/1/20 -0.0575 -0.1779    -0.5775   -0.2392    -0.0725      -0.2554   \n",
       "\n",
       "     Mtrls_Ann  Tech_Ann  Util_Ann  Unempl  Jobs_Non-Farm (000s)  Hrly_Wages  \\\n",
       "12      0.1564    0.4349   -0.0444   0.040                130772        0.00   \n",
       "13      0.2158    0.7033   -0.0359   0.040                131005        0.00   \n",
       "14      0.0962    0.3239   -0.0695   0.041                131124        0.00   \n",
       "15     -0.0022    0.6654   -0.1154   0.040                131596        0.00   \n",
       "16      0.0760    0.5950   -0.0058   0.038                131888        0.00   \n",
       "..         ...       ...       ...     ...                   ...         ...   \n",
       "236     0.0862    0.2433   -0.0152   0.038                149268       27.22   \n",
       "237     0.0697    0.2759   -0.0276   0.037                149348       27.31   \n",
       "241    -0.1819   -0.0545    0.0008   0.040                150134       27.58   \n",
       "242    -0.1470   -0.0277    0.0696   0.038                150135       27.69   \n",
       "256    -0.2237    0.0384   -0.0851   0.147                130303       30.03   \n",
       "\n",
       "     CPI_urban  PPI_Commodity  Imp_Exp _Indx  haircut_price  cardboard_pice  \\\n",
       "12     168.800            0.0           97.4         106.30           191.9   \n",
       "13     169.300            0.0           97.8         106.70           191.9   \n",
       "14     170.000            0.0           99.7         107.20           191.5   \n",
       "15     171.000            0.0           99.9         107.50           192.3   \n",
       "16     170.900            0.0           98.5         107.50           197.5   \n",
       "..         ...            ...            ...            ...             ...   \n",
       "236    251.905          116.5          127.6         161.73           362.5   \n",
       "237    252.261          116.7          127.7         161.87           363.4   \n",
       "241    252.550          117.0          124.6         163.86           361.5   \n",
       "242    253.181          117.2          125.9         164.32           361.5   \n",
       "256    255.902          116.6          118.2         169.90           358.9   \n",
       "\n",
       "     CS_BS  \n",
       "12       0  \n",
       "13       0  \n",
       "14       0  \n",
       "15       0  \n",
       "16       0  \n",
       "..     ...  \n",
       "236      0  \n",
       "237      0  \n",
       "241      0  \n",
       "242      0  \n",
       "256      0  \n",
       "\n",
       "[61 rows x 19 columns]"
      ]
     },
     "execution_count": 4,
     "metadata": {},
     "output_type": "execute_result"
    }
   ],
   "source": [
    "data[data[\"CS_Ann\"] < 0]"
   ]
  },
  {
   "cell_type": "code",
   "execution_count": 5,
   "metadata": {},
   "outputs": [],
   "source": [
    "kevin_input=data.drop(['CS_BS', 'Date'], axis=1)"
   ]
  },
  {
   "cell_type": "code",
   "execution_count": 6,
   "metadata": {},
   "outputs": [
    {
     "ename": "NameError",
     "evalue": "name 'rf' is not defined",
     "output_type": "error",
     "traceback": [
      "\u001b[0;31m---------------------------------------------------------------------------\u001b[0m",
      "\u001b[0;31mNameError\u001b[0m                                 Traceback (most recent call last)",
      "\u001b[0;32m<ipython-input-6-9553db4e6a4e>\u001b[0m in \u001b[0;36m<module>\u001b[0;34m\u001b[0m\n\u001b[1;32m     11\u001b[0m     \u001b[0mdtr\u001b[0m\u001b[0;34m=\u001b[0m\u001b[0mDecisionTreeRegressor\u001b[0m\u001b[0;34m(\u001b[0m\u001b[0;34m)\u001b[0m\u001b[0;34m\u001b[0m\u001b[0;34m\u001b[0m\u001b[0m\n\u001b[1;32m     12\u001b[0m     \u001b[0mdtr\u001b[0m\u001b[0;34m.\u001b[0m\u001b[0mfit\u001b[0m\u001b[0;34m(\u001b[0m\u001b[0minput_df\u001b[0m\u001b[0;34m.\u001b[0m\u001b[0miloc\u001b[0m\u001b[0;34m[\u001b[0m\u001b[0;34m:\u001b[0m\u001b[0minitial_train\u001b[0m\u001b[0;34m+\u001b[0m\u001b[0meach_cycle\u001b[0m\u001b[0;34m,\u001b[0m \u001b[0;34m:\u001b[0m\u001b[0;34m]\u001b[0m\u001b[0;34m,\u001b[0m \u001b[0mtarget_df\u001b[0m\u001b[0;34m[\u001b[0m\u001b[0;34m:\u001b[0m\u001b[0minitial_train\u001b[0m\u001b[0;34m+\u001b[0m\u001b[0meach_cycle\u001b[0m\u001b[0;34m]\u001b[0m\u001b[0;34m)\u001b[0m\u001b[0;34m\u001b[0m\u001b[0;34m\u001b[0m\u001b[0m\n\u001b[0;32m---> 13\u001b[0;31m     \u001b[0mprediction\u001b[0m\u001b[0;34m=\u001b[0m\u001b[0mrf\u001b[0m\u001b[0;34m.\u001b[0m\u001b[0mpredict\u001b[0m\u001b[0;34m(\u001b[0m\u001b[0;34m[\u001b[0m\u001b[0minput_df\u001b[0m\u001b[0;34m.\u001b[0m\u001b[0miloc\u001b[0m\u001b[0;34m[\u001b[0m\u001b[0minitial_train\u001b[0m\u001b[0;34m+\u001b[0m\u001b[0meach_cycle\u001b[0m\u001b[0;34m,\u001b[0m \u001b[0;34m:\u001b[0m\u001b[0;34m]\u001b[0m\u001b[0;34m]\u001b[0m\u001b[0;34m)\u001b[0m\u001b[0;34m\u001b[0m\u001b[0;34m\u001b[0m\u001b[0m\n\u001b[0m\u001b[1;32m     14\u001b[0m     \u001b[0mprint\u001b[0m\u001b[0;34m(\u001b[0m\u001b[0;34mf'Predict: {prediction} when actual is {target_df[initial_train+each_cycle]}'\u001b[0m\u001b[0;34m)\u001b[0m\u001b[0;34m\u001b[0m\u001b[0;34m\u001b[0m\u001b[0m\n",
      "\u001b[0;31mNameError\u001b[0m: name 'rf' is not defined"
     ]
    }
   ],
   "source": [
    "input_cols=['Unempl',\n",
    "       'Jobs_Non-Farm (000s)', 'Hrly_Wages', 'CPI_urban', 'PPI_Commodity',\n",
    "       'Imp_Exp _Indx', 'haircut_price', 'cardboard_pice']\n",
    "input_df=kevin_input[input_cols]\n",
    "target_df=kevin_input['CS_Ann']\n",
    "predicted=[]\n",
    "from sklearn.tree import DecisionTreeRegressor\n",
    "initial_train=30\n",
    "num_runs=len(input_df)-initial_train\n",
    "for each_cycle in range(num_runs):\n",
    "    dtr=DecisionTreeRegressor()\n",
    "    dtr.fit(input_df.iloc[:initial_train+each_cycle, :], target_df[:initial_train+each_cycle])\n",
    "    prediction=rf.predict([input_df.iloc[initial_train+each_cycle, :]])\n",
    "    print(f'Predict: {prediction} when actual is {target_df[initial_train+each_cycle]}')"
   ]
  },
  {
   "cell_type": "code",
   "execution_count": null,
   "metadata": {},
   "outputs": [],
   "source": [
    "data.columns"
   ]
  },
  {
   "cell_type": "code",
   "execution_count": null,
   "metadata": {},
   "outputs": [],
   "source": [
    "data.dtypes"
   ]
  },
  {
   "cell_type": "markdown",
   "metadata": {},
   "source": [
    "### Start here with each new sector column"
   ]
  },
  {
   "cell_type": "code",
   "execution_count": null,
   "metadata": {
    "scrolled": true,
    "slideshow": {
     "slide_type": "subslide"
    }
   },
   "outputs": [],
   "source": [
    "# train, test, split\n",
    "X = data[['CD_Ann', 'Enrgy_Ann', 'Fncl_Ann', 'HlthC_Ann',\n",
    "       'Indstrl_Ann', 'Mtrls_Ann', 'Tech_Ann', 'Util_Ann', 'Unempl',\n",
    "       'Jobs_Non-Farm (000s)', 'Hrly_Wages', 'CPI_urban', 'PPI_Commodity',\n",
    "       'Imp_Exp _Indx', 'haircut_price', 'cardboard_pice']]\n",
    "y = data[\"CS_BS\"].values.reshape(-1,1)\n",
    "print(X.shape, y.shape)"
   ]
  },
  {
   "cell_type": "code",
   "execution_count": null,
   "metadata": {
    "nbgrader": {
     "grade": false,
     "grade_id": "cell-97f9d8f3d4b7abc1",
     "locked": false,
     "schema_version": 1,
     "solution": true
    },
    "slideshow": {
     "slide_type": "fragment"
    }
   },
   "outputs": [],
   "source": [
    "X_train, X_test, y_train, y_test = train_test_split(X, y, random_state=1)"
   ]
  },
  {
   "cell_type": "code",
   "execution_count": null,
   "metadata": {
    "scrolled": true
   },
   "outputs": [],
   "source": [
    "y_train"
   ]
  },
  {
   "cell_type": "code",
   "execution_count": null,
   "metadata": {},
   "outputs": [],
   "source": [
    "X_test.shape[0] + X_train.shape[0]"
   ]
  },
  {
   "cell_type": "code",
   "execution_count": null,
   "metadata": {},
   "outputs": [],
   "source": [
    "X_test.head()"
   ]
  },
  {
   "cell_type": "code",
   "execution_count": null,
   "metadata": {},
   "outputs": [],
   "source": []
  },
  {
   "cell_type": "code",
   "execution_count": null,
   "metadata": {},
   "outputs": [],
   "source": []
  },
  {
   "cell_type": "markdown",
   "metadata": {
    "slideshow": {
     "slide_type": "slide"
    }
   },
   "source": [
    "## Data Preprocessing\n",
    "\n",
    "Scale data prior to multilayer perceptron models."
   ]
  },
  {
   "cell_type": "code",
   "execution_count": null,
   "metadata": {},
   "outputs": [],
   "source": [
    "y_train"
   ]
  },
  {
   "cell_type": "code",
   "execution_count": null,
   "metadata": {
    "nbgrader": {
     "grade": false,
     "grade_id": "cell-37fc133aaa66b4b0",
     "locked": false,
     "schema_version": 1,
     "solution": true
    },
    "slideshow": {
     "slide_type": "subslide"
    }
   },
   "outputs": [],
   "source": [
    "X_train_scaled = X_scaler.transform(X_train)\n",
    "X_test_scaled = X_scaler.transform(X_test)\n",
    "y_train_scaled = y_scaler.transform(y_train)\n",
    "y_test_scaled = y_scaler.transform(y_test)"
   ]
  },
  {
   "cell_type": "code",
   "execution_count": null,
   "metadata": {},
   "outputs": [],
   "source": [
    "X_train.head(4)"
   ]
  },
  {
   "cell_type": "code",
   "execution_count": null,
   "metadata": {},
   "outputs": [],
   "source": [
    "X_train_scaled[0]"
   ]
  },
  {
   "cell_type": "code",
   "execution_count": null,
   "metadata": {},
   "outputs": [],
   "source": [
    "X_train_scaled[1]"
   ]
  },
  {
   "cell_type": "markdown",
   "metadata": {
    "slideshow": {
     "slide_type": "subslide"
    }
   },
   "source": [
    "Scale both the training and testing data"
   ]
  },
  {
   "cell_type": "markdown",
   "metadata": {
    "slideshow": {
     "slide_type": "slide"
    }
   },
   "source": [
    "## Model"
   ]
  },
  {
   "cell_type": "markdown",
   "metadata": {},
   "source": [
    "Sequential model"
   ]
  },
  {
   "cell_type": "code",
   "execution_count": null,
   "metadata": {},
   "outputs": [],
   "source": [
    "def count_trues(list1, list2):\n",
    "\n",
    "    count_of_trues = []\n",
    "\n",
    "    for i in range(len(list1)):\n",
    "        if list1[i] == list2[i]:\n",
    "            count_of_trues.append(1)\n",
    "    return len(count_of_trues)"
   ]
  },
  {
   "cell_type": "code",
   "execution_count": null,
   "metadata": {},
   "outputs": [],
   "source": [
    "# optimization would be to look at the penalty parameter and C (with the lambda)\n",
    "\n",
    "model = LogisticRegression()\n",
    "model.fit(X_train_scaled, y_train_scaled)\n",
    "y_pred_train = model.predict(X_train_scaled)\n",
    "y_pred_test = model.predict(X_test_scaled)"
   ]
  },
  {
   "cell_type": "code",
   "execution_count": null,
   "metadata": {},
   "outputs": [],
   "source": [
    "print(\"Percent Accuracy of Training Set:\", count_trues(y_train_scaled, y_pred_train) / len(y_train_scaled)) \n",
    "print(\"Percent Accuracy of Test Set:\", count_trues(y_test_scaled, y_pred_test) / len(y_test_scaled))\n",
    "\n"
   ]
  },
  {
   "cell_type": "code",
   "execution_count": null,
   "metadata": {},
   "outputs": [],
   "source": []
  },
  {
   "cell_type": "code",
   "execution_count": null,
   "metadata": {},
   "outputs": [],
   "source": []
  },
  {
   "cell_type": "code",
   "execution_count": null,
   "metadata": {},
   "outputs": [],
   "source": []
  },
  {
   "cell_type": "code",
   "execution_count": null,
   "metadata": {},
   "outputs": [],
   "source": []
  },
  {
   "cell_type": "markdown",
   "metadata": {},
   "source": [
    "# CD Sector"
   ]
  },
  {
   "cell_type": "code",
   "execution_count": null,
   "metadata": {
    "scrolled": true,
    "slideshow": {
     "slide_type": "subslide"
    }
   },
   "outputs": [],
   "source": [
    "# train, test, split\n",
    "X = data[['CD_Ann', 'Enrgy_Ann', 'Fncl_Ann', 'HlthC_Ann',\n",
    "       'Indstrl_Ann', 'Mtrls_Ann', 'Tech_Ann', 'Util_Ann', 'Unempl',\n",
    "       'Jobs_Non-Farm (000s)', 'Hrly_Wages', 'CPI_urban', 'PPI_Commodity',\n",
    "       'Imp_Exp _Indx', 'haircut_price', 'cardboard_pice']]\n",
    "y = data[\"CS_BS\"].values.reshape(-1,1)\n",
    "print(X.shape, y.shape)"
   ]
  },
  {
   "cell_type": "code",
   "execution_count": null,
   "metadata": {
    "nbgrader": {
     "grade": false,
     "grade_id": "cell-97f9d8f3d4b7abc1",
     "locked": false,
     "schema_version": 1,
     "solution": true
    },
    "slideshow": {
     "slide_type": "fragment"
    }
   },
   "outputs": [],
   "source": [
    "X_train, X_test, y_train, y_test = train_test_split(X, y, random_state=1)"
   ]
  },
  {
   "cell_type": "code",
   "execution_count": null,
   "metadata": {
    "scrolled": true
   },
   "outputs": [],
   "source": [
    "y_train"
   ]
  },
  {
   "cell_type": "code",
   "execution_count": null,
   "metadata": {},
   "outputs": [],
   "source": [
    "X_test.shape[0] + X_train.shape[0]"
   ]
  },
  {
   "cell_type": "code",
   "execution_count": null,
   "metadata": {},
   "outputs": [],
   "source": [
    "X_test.head()"
   ]
  },
  {
   "cell_type": "code",
   "execution_count": null,
   "metadata": {},
   "outputs": [],
   "source": []
  },
  {
   "cell_type": "code",
   "execution_count": null,
   "metadata": {},
   "outputs": [],
   "source": []
  },
  {
   "cell_type": "markdown",
   "metadata": {
    "slideshow": {
     "slide_type": "slide"
    }
   },
   "source": [
    "## Data Preprocessing\n",
    "\n",
    "Scale data prior to multilayer perceptron models."
   ]
  },
  {
   "cell_type": "code",
   "execution_count": null,
   "metadata": {},
   "outputs": [],
   "source": [
    "y_train"
   ]
  },
  {
   "cell_type": "code",
   "execution_count": null,
   "metadata": {
    "nbgrader": {
     "grade": false,
     "grade_id": "cell-37fc133aaa66b4b0",
     "locked": false,
     "schema_version": 1,
     "solution": true
    },
    "slideshow": {
     "slide_type": "subslide"
    }
   },
   "outputs": [],
   "source": [
    "X_train_scaled = X_scaler.transform(X_train)\n",
    "X_test_scaled = X_scaler.transform(X_test)\n",
    "y_train_scaled = y_scaler.transform(y_train)\n",
    "y_test_scaled = y_scaler.transform(y_test)"
   ]
  },
  {
   "cell_type": "code",
   "execution_count": null,
   "metadata": {},
   "outputs": [],
   "source": [
    "X_train.head(4)"
   ]
  },
  {
   "cell_type": "code",
   "execution_count": null,
   "metadata": {},
   "outputs": [],
   "source": [
    "X_train_scaled[0]"
   ]
  },
  {
   "cell_type": "code",
   "execution_count": null,
   "metadata": {},
   "outputs": [],
   "source": [
    "X_train_scaled[1]"
   ]
  },
  {
   "cell_type": "markdown",
   "metadata": {
    "slideshow": {
     "slide_type": "subslide"
    }
   },
   "source": [
    "Scale both the training and testing data"
   ]
  },
  {
   "cell_type": "markdown",
   "metadata": {
    "slideshow": {
     "slide_type": "slide"
    }
   },
   "source": [
    "## Model"
   ]
  },
  {
   "cell_type": "markdown",
   "metadata": {},
   "source": [
    "Sequential model"
   ]
  },
  {
   "cell_type": "code",
   "execution_count": null,
   "metadata": {},
   "outputs": [],
   "source": [
    "def count_trues(list1, list2):\n",
    "\n",
    "    count_of_trues = []\n",
    "\n",
    "    for i in range(len(list1)):\n",
    "        if list1[i] == list2[i]:\n",
    "            count_of_trues.append(1)\n",
    "    return len(count_of_trues)"
   ]
  },
  {
   "cell_type": "code",
   "execution_count": null,
   "metadata": {},
   "outputs": [],
   "source": [
    "# optimization would be to look at the penalty parameter and C (with the lambda)\n",
    "\n",
    "model = LogisticRegression()\n",
    "model.fit(X_train_scaled, y_train_scaled)\n",
    "y_pred_train = model.predict(X_train_scaled)\n",
    "y_pred_test = model.predict(X_test_scaled)"
   ]
  },
  {
   "cell_type": "code",
   "execution_count": null,
   "metadata": {},
   "outputs": [],
   "source": [
    "print(\"Percent Accuracy of Training Set:\", count_trues(y_train_scaled, y_pred_train) / len(y_train_scaled)) \n",
    "print(\"Percent Accuracy of Test Set:\", count_trues(y_test_scaled, y_pred_test) / len(y_test_scaled))\n",
    "\n"
   ]
  },
  {
   "cell_type": "code",
   "execution_count": null,
   "metadata": {},
   "outputs": [],
   "source": []
  },
  {
   "cell_type": "code",
   "execution_count": null,
   "metadata": {},
   "outputs": [],
   "source": []
  },
  {
   "cell_type": "markdown",
   "metadata": {
    "slideshow": {
     "slide_type": "slide"
    }
   },
   "source": [
    "## Quantify the Model\n",
    "We use our testing data to validate our model. This is how we determine the validity of our model (i.e. the ability to predict new and previously unseen data points)"
   ]
  },
  {
   "cell_type": "code",
   "execution_count": null,
   "metadata": {
    "nbgrader": {
     "grade": false,
     "grade_id": "cell-715f0369813d2b84",
     "locked": false,
     "schema_version": 1,
     "solution": true
    },
    "slideshow": {
     "slide_type": "fragment"
    }
   },
   "outputs": [],
   "source": [
    "# Evaluate the model using testing data\n",
    "model_loss, model_accuracy = model.evaluate(\n",
    "    X_test_scaled, y_test_categorical, verbose=2)\n",
    "print(f\"Loss: {model_loss}, Accuracy: {model_accuracy}\")"
   ]
  },
  {
   "cell_type": "markdown",
   "metadata": {},
   "source": [
    "## Making Predictions with new data\n",
    "\n",
    "Make predictions using `model.predict`"
   ]
  },
  {
   "cell_type": "code",
   "execution_count": null,
   "metadata": {},
   "outputs": [],
   "source": [
    "import numpy as np\n",
    "new_data = np.array([[0.2, 0.3, 0.4]])\n",
    "print(f\"Predicted class: {model.predict_classes(new_data)}\")"
   ]
  },
  {
   "cell_type": "code",
   "execution_count": null,
   "metadata": {
    "nbgrader": {
     "grade": false,
     "grade_id": "cell-8ae47560e1c23a45",
     "locked": false,
     "schema_version": 1,
     "solution": true
    },
    "slideshow": {
     "slide_type": "fragment"
    }
   },
   "outputs": [],
   "source": [
    "# X_train_scaled = X_scaler.transform(X_train)\n",
    "# X_test_scaled = X_scaler.transform(X_test)"
   ]
  },
  {
   "cell_type": "code",
   "execution_count": null,
   "metadata": {},
   "outputs": [],
   "source": [
    "# Encode, scale, and normalize"
   ]
  },
  {
   "cell_type": "markdown",
   "metadata": {},
   "source": [
    "data = X.copy()\n",
    "\n",
    "data_binary_encoded = pd.get_dummies(data)\n",
    "data_binary_encoded.head()\n",
    "\n",
    "X = pd.get_dummies(X)\n",
    "\n",
    "X_train, X_test, y_train, y_test = train_test_split(X, y)\n",
    "\n",
    "X_train.head()\n",
    "\n",
    "\n",
    "# STANDARD SCALER\n",
    "X_scaler = StandardScaler().fit(X_train)\n",
    "y_scaler = StandardScaler().fit(y_train)\n",
    "\n",
    "X_train_scaled = X_scaler.transform(X_train)\n",
    "X_test_scaled = X_scaler.transform(X_test)\n",
    "y_train_scaled = y_scaler.transform(y_train)\n",
    "y_test_scaled = y_scaler.transform(y_test)"
   ]
  },
  {
   "cell_type": "markdown",
   "metadata": {},
   "source": [
    "One-hot encode the labels"
   ]
  },
  {
   "cell_type": "markdown",
   "metadata": {},
   "source": [
    "# One-hot encoding\n",
    "y_train_categorical = to_categorical(y_train)\n",
    "y_test_categorical = to_categorical(y_test)\n",
    "y_train_categorical"
   ]
  }
 ],
 "metadata": {
  "anaconda-cloud": {},
  "kernelspec": {
   "display_name": "Python 3",
   "language": "python",
   "name": "python3"
  },
  "language_info": {
   "codemirror_mode": {
    "name": "ipython",
    "version": 3
   },
   "file_extension": ".py",
   "mimetype": "text/x-python",
   "name": "python",
   "nbconvert_exporter": "python",
   "pygments_lexer": "ipython3",
   "version": "3.7.6"
  },
  "varInspector": {
   "cols": {
    "lenName": 16,
    "lenType": 16,
    "lenVar": 40
   },
   "kernels_config": {
    "python": {
     "delete_cmd_postfix": "",
     "delete_cmd_prefix": "del ",
     "library": "var_list.py",
     "varRefreshCmd": "print(var_dic_list())"
    },
    "r": {
     "delete_cmd_postfix": ") ",
     "delete_cmd_prefix": "rm(",
     "library": "var_list.r",
     "varRefreshCmd": "cat(var_dic_list()) "
    }
   },
   "types_to_exclude": [
    "module",
    "function",
    "builtin_function_or_method",
    "instance",
    "_Feature"
   ],
   "window_display": false
  }
 },
 "nbformat": 4,
 "nbformat_minor": 2
}
